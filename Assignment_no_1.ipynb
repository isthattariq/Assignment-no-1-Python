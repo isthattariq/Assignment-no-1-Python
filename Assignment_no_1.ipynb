{
 "cells": [
  {
   "cell_type": "markdown",
   "id": "1d96850e-e30e-463f-a813-2ad0e802d504",
   "metadata": {},
   "source": [
    "# ASSIGNMENT NO 1"
   ]
  },
  {
   "cell_type": "code",
   "execution_count": 23,
   "id": "9d4c3c6f-b105-479e-abf7-8b5d4c6ff108",
   "metadata": {},
   "outputs": [
    {
     "name": "stdout",
     "output_type": "stream",
     "text": [
      "['20k', '40k', '50k', '60k', '35k', '89k', '40k']\n"
     ]
    }
   ],
   "source": [
    "salaries = ['20k', '40k', '50k', '60k', '35k', '89k','40k']\n",
    "print(salaries)"
   ]
  },
  {
   "cell_type": "markdown",
   "id": "6ad7dbf0-cd4d-4d32-bcad-30bb454ddbc1",
   "metadata": {},
   "source": [
    "### Q1"
   ]
  },
  {
   "cell_type": "code",
   "execution_count": 25,
   "id": "93514ae5-8c80-41fa-867e-8830ea123b19",
   "metadata": {},
   "outputs": [
    {
     "name": "stdout",
     "output_type": "stream",
     "text": [
      "7\n"
     ]
    }
   ],
   "source": [
    "print(len(salaries))"
   ]
  },
  {
   "cell_type": "code",
   "execution_count": 27,
   "id": "be35169b-7c0e-4de4-88b5-d90cf11c67ce",
   "metadata": {
    "scrolled": true
   },
   "outputs": [
    {
     "ename": "NameError",
     "evalue": "name 'salaris' is not defined",
     "output_type": "error",
     "traceback": [
      "\u001b[1;31m---------------------------------------------------------------------------\u001b[0m",
      "\u001b[1;31mNameError\u001b[0m                                 Traceback (most recent call last)",
      "Cell \u001b[1;32mIn[27], line 2\u001b[0m\n\u001b[0;32m      1\u001b[0m salariesLength \u001b[38;5;241m=\u001b[39m \u001b[38;5;28mlen\u001b[39m(salaries)\n\u001b[1;32m----> 2\u001b[0m \u001b[38;5;28mprint\u001b[39m(salaris)\n",
      "\u001b[1;31mNameError\u001b[0m: name 'salaris' is not defined"
     ]
    }
   ],
   "source": [
    "salariesLength = len(salaries)\n",
    "print(salaris)"
   ]
  },
  {
   "cell_type": "code",
   "execution_count": 30,
   "id": "81f6ebba-f683-4143-811d-baa354692ec9",
   "metadata": {},
   "outputs": [
    {
     "name": "stdout",
     "output_type": "stream",
     "text": [
      "7\n"
     ]
    }
   ],
   "source": [
    "salariesLenght = len(salaries)\n",
    "print(salariesLength)"
   ]
  },
  {
   "cell_type": "markdown",
   "id": "9fa951bd-f0fe-45dc-8d38-a5707fcb3a19",
   "metadata": {},
   "source": [
    "### Q2"
   ]
  },
  {
   "cell_type": "code",
   "execution_count": 36,
   "id": "68c81232-fc92-42e2-bb03-0d58ceb89573",
   "metadata": {},
   "outputs": [
    {
     "name": "stdout",
     "output_type": "stream",
     "text": [
      "50k\n"
     ]
    }
   ],
   "source": [
    "print(salaries[2])"
   ]
  },
  {
   "cell_type": "markdown",
   "id": "fc0d0c85-d08f-4450-90c9-001e9f4f15a9",
   "metadata": {},
   "source": [
    "### Q3"
   ]
  },
  {
   "cell_type": "code",
   "execution_count": 39,
   "id": "402a4911-7e7b-44a7-b8e4-c918432489a2",
   "metadata": {},
   "outputs": [
    {
     "name": "stdout",
     "output_type": "stream",
     "text": [
      "40k\n"
     ]
    }
   ],
   "source": [
    "print(salaries[-1])"
   ]
  },
  {
   "cell_type": "markdown",
   "id": "be18ff5f-dd80-4d60-86e8-453b67ff3d57",
   "metadata": {},
   "source": [
    "### Q4"
   ]
  },
  {
   "cell_type": "code",
   "execution_count": 42,
   "id": "3f0c2f8e-9998-4912-b918-bbfb79f81005",
   "metadata": {},
   "outputs": [
    {
     "name": "stdout",
     "output_type": "stream",
     "text": [
      "['50k', '60k', '35k']\n"
     ]
    }
   ],
   "source": [
    "print(salaries[2:5])"
   ]
  },
  {
   "cell_type": "markdown",
   "id": "82d5fc56-f3aa-49c7-b27d-c5e35f825b69",
   "metadata": {},
   "source": [
    "### Q5"
   ]
  },
  {
   "cell_type": "code",
   "execution_count": 64,
   "id": "83a4b9ba-2a42-41cb-9e12-6c3ae1656eac",
   "metadata": {},
   "outputs": [
    {
     "name": "stdout",
     "output_type": "stream",
     "text": [
      "['20k', '40k', '50k', '60k', '35k', '89k', '40k']\n"
     ]
    }
   ],
   "source": [
    "print(salaries)"
   ]
  },
  {
   "cell_type": "code",
   "execution_count": 66,
   "id": "2b5a7292-db30-492a-a67e-f80b936e56ab",
   "metadata": {},
   "outputs": [
    {
     "name": "stdout",
     "output_type": "stream",
     "text": [
      "['20k', '40k', '50k', '60k', '35k', '89k', '40k', '100k']\n"
     ]
    }
   ],
   "source": [
    "salaries.append('100k')\n",
    "print(salaries)"
   ]
  },
  {
   "cell_type": "markdown",
   "id": "f54a31b5-ab15-4cf7-817f-9ca81eef80b7",
   "metadata": {},
   "source": [
    "### Q5"
   ]
  },
  {
   "cell_type": "code",
   "execution_count": 70,
   "id": "7ec891a4-678c-4dd0-9b1a-77f585b9edbf",
   "metadata": {},
   "outputs": [
    {
     "name": "stdout",
     "output_type": "stream",
     "text": [
      "['20k', '40k', '50k', '60k', '35k', '89k', '40k', '100k', '120k']\n"
     ]
    }
   ],
   "source": [
    "salaries = salaries + ['120k']\n",
    "print(salaries)"
   ]
  },
  {
   "cell_type": "markdown",
   "id": "0c35af21-4eee-45ab-8d32-850724afefb0",
   "metadata": {},
   "source": [
    "### Q6"
   ]
  },
  {
   "cell_type": "code",
   "execution_count": 73,
   "id": "66913894-eb4c-4757-b775-acd32dc81090",
   "metadata": {},
   "outputs": [
    {
     "name": "stdout",
     "output_type": "stream",
     "text": [
      "['20k', '40k', '55k', '60k', '35k', '89k', '40k', '100k', '120k']\n"
     ]
    }
   ],
   "source": [
    "salaries[2] = '55k'\n",
    "print(salaries)"
   ]
  },
  {
   "cell_type": "markdown",
   "id": "9bced285-23bd-4306-8d24-594f92506adc",
   "metadata": {},
   "source": [
    "### Q7"
   ]
  },
  {
   "cell_type": "code",
   "execution_count": 84,
   "id": "aac42716-2834-4583-8568-1d6d3aac845d",
   "metadata": {},
   "outputs": [
    {
     "name": "stdout",
     "output_type": "stream",
     "text": [
      "['20k', '40k', '50k', '60k', '35k', '89k', '40k']\n"
     ]
    }
   ],
   "source": [
    "salaries.count('40k')\n",
    "print(salaries)"
   ]
  },
  {
   "cell_type": "code",
   "execution_count": 86,
   "id": "7016579a-d52e-4a61-96a4-d7b49aa5bc96",
   "metadata": {},
   "outputs": [
    {
     "name": "stdout",
     "output_type": "stream",
     "text": [
      "2\n"
     ]
    }
   ],
   "source": [
    "countSalary = salaries.count('40k')\n",
    "print(countSalary)"
   ]
  },
  {
   "cell_type": "markdown",
   "id": "305c9c62-bd07-4aac-a43f-287090d8efa0",
   "metadata": {},
   "source": [
    "### Q8"
   ]
  },
  {
   "cell_type": "code",
   "execution_count": 95,
   "id": "e1cf8623-9d63-4dc7-b2c2-e3394ad6db32",
   "metadata": {},
   "outputs": [
    {
     "name": "stdout",
     "output_type": "stream",
     "text": [
      "['20k', '99k', '40k', '50k', '60k', '35k', '89k', '40k']\n"
     ]
    }
   ],
   "source": [
    "salaries.insert(1, '99k')\n",
    "print(salaries)"
   ]
  },
  {
   "cell_type": "markdown",
   "id": "cf94b597-4650-40c1-a92c-cd92e7346154",
   "metadata": {},
   "source": [
    "### Q9"
   ]
  },
  {
   "cell_type": "code",
   "execution_count": 98,
   "id": "74ef1efa-dba9-401a-95ad-6aa7bbe03029",
   "metadata": {},
   "outputs": [
    {
     "name": "stdout",
     "output_type": "stream",
     "text": [
      "['40k', '89k', '35k', '60k', '50k', '40k', '99k', '20k']\n"
     ]
    }
   ],
   "source": [
    "salaries.reverse()\n",
    "print(salaries)"
   ]
  },
  {
   "cell_type": "markdown",
   "id": "1191eeb5-6e15-46fc-85c8-7f1a7e673021",
   "metadata": {},
   "source": [
    "### Q10"
   ]
  },
  {
   "cell_type": "code",
   "execution_count": 101,
   "id": "4a600ac4-7917-40f0-a770-e86e0558dc22",
   "metadata": {},
   "outputs": [
    {
     "name": "stdout",
     "output_type": "stream",
     "text": [
      "['40k', '89k', '35k', '60k', '50k', '40k', '99k', '20k']\n"
     ]
    }
   ],
   "source": [
    "salaries[::-1]\n",
    "print(salaries)"
   ]
  },
  {
   "cell_type": "code",
   "execution_count": null,
   "id": "9c9076fe-0f3e-4df4-b721-5469baff85a4",
   "metadata": {},
   "outputs": [],
   "source": []
  }
 ],
 "metadata": {
  "kernelspec": {
   "display_name": "Python [conda env:base] *",
   "language": "python",
   "name": "conda-base-py"
  },
  "language_info": {
   "codemirror_mode": {
    "name": "ipython",
    "version": 3
   },
   "file_extension": ".py",
   "mimetype": "text/x-python",
   "name": "python",
   "nbconvert_exporter": "python",
   "pygments_lexer": "ipython3",
   "version": "3.12.7"
  }
 },
 "nbformat": 4,
 "nbformat_minor": 5
}
